{
 "cells": [
  {
   "cell_type": "code",
   "execution_count": 1,
   "metadata": {},
   "outputs": [],
   "source": [
    "import pdfplumber\n",
    "from utils.ocr_utils import get_text_from_ocr_output\n",
    "from utils.openai_functions import get_answer_from_simple_prompt"
   ]
  },
  {
   "cell_type": "code",
   "execution_count": 2,
   "metadata": {},
   "outputs": [
    {
     "data": {
      "image/png": "[encoded data removed]",
      "text/plain": [
       "<pdfplumber.display.PageImage at 0x7fe48a4660e0>"
      ]
     },
     "execution_count": 2,
     "metadata": {},
     "output_type": "execute_result"
    }
   ],
   "source": [
    "file_path = \"../data/pdf_documents/TARAFA/Invoice.pdf\"\n",
    "page = 1\n",
    "with pdfplumber.open(\n",
    "    file_path\n",
    ") as pdf:\n",
    "    im = pdf.pages[page-1].to_image(resolution=40)\n",
    "im"
   ]
  },
  {
   "cell_type": "code",
   "execution_count": 3,
   "metadata": {},
   "outputs": [
    {
     "name": "stdout",
     "output_type": "stream",
     "text": [
      "{\n",
      "    \"po_number\": \"NL1J222372\",\n",
      "    \"vendor_name\": \"TARAFA JRC Marine\",\n",
      "    \"receiver_name\": \"Axima\",\n",
      "    \"total_amount\": \"8,172.20\"\n",
      "}\n"
     ]
    }
   ],
   "source": [
    "PROMPT = \"\"\"\n",
    "I will give you the output of an OCR system, run on a Purchase Order.\n",
    "You will give me the PO number, the name of the vendor company, the name of the receiver company, and the PO total amount.\n",
    "Answer in a JSON format. An example of answer is given below:\n",
    "{\n",
    "    \"po_number\": \"4503500962\",\n",
    "    \"vendor_name\": \"company1\",\n",
    "    \"receiver_name\": \"company2\",\n",
    "    \"total_amount\": \"1,000.00\"\n",
    "}\n",
    "Here is the OCR output:\n",
    "\"\"\"\n",
    "\n",
    "file_path = \"../data/ocr_results/TARAFA/Invoice.json\"\n",
    "# file_path = \"../data/ocr_results/TARAFA/PO.json\"\n",
    "ocr_output_text = get_text_from_ocr_output(file_path)\n",
    "\n",
    "\n",
    "predicted_fields = get_answer_from_simple_prompt(PROMPT + ocr_output_text)\n",
    "print(predicted_fields)"
   ]
  }
 ],
 "metadata": {
  "kernelspec": {
   "display_name": "idsc-tp",
   "language": "python",
   "name": "python3"
  },
  "language_info": {
   "codemirror_mode": {
    "name": "ipython",
    "version": 3
   },
   "file_extension": ".py",
   "mimetype": "text/x-python",
   "name": "python",
   "nbconvert_exporter": "python",
   "pygments_lexer": "ipython3",
   "version": "3.10.11"
  }
 },
 "nbformat": 4,
 "nbformat_minor": 2
}
